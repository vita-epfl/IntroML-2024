{
 "cells": [
  {
   "cell_type": "markdown",
   "metadata": {},
   "source": [
    "# NumPy Basics"
   ]
  },
  {
   "cell_type": "markdown",
   "metadata": {},
   "source": [
    "<hr style=\"clear:both\">\n",
    "\n",
    "This notebook was initially made for the CS-233 Introduction to Machine Learning course at EPFL, and adapted for the CIVIL-226 Introduction to Machine Learning for Engineers course. Many thanks to Jan Bednarík and the Computer Vision Lab ([CVLab](https://www.epfl.ch/labs/cvlab)) for allowing us to use this notebook.  \n",
    "    \n",
    "**Author(s):** [Jan Bednarík](mailto:jan.bednarik@epfl.ch), minor changes by [Tom Winandy](mailto:tom.winandy@epfl.ch)\n",
    "<hr style=\"clear:both\">\n",
    "\n",
    "In this exercise we will work with a popular Python library for scientific computing with N-dimensional arrays - NumPy. You will see again some of the concepts introduced last week, such as indexing and slicing the lists, but NumPy adds multiple new concepts, namely broadcasting, vectorization, indexing using masking and wide range of functions to work with the arrays, which you will learn to use today. This exercise is quite long and you might not be able to finish it during the exercise sessions. However, the introduced concepts will be used during the following weeks so we would like to encourage you to take an extra time and try to finish the whole exercise before next week, since getting familiar with NumPy will pay-off when working on following exercise (and possibly in other courses relying on NumPy as well). Let's get started!\n",
    "\n",
    "In the exercises you will be often referred to NumPy functions which you should use. Please inspect the [NumPy reference/documentation](https://docs.scipy.org/doc/numpy/reference/) and find out how to use the functions.\n",
    "\n",
    "## 1 About NumPy\n",
    "\n",
    "### NumPy\n",
    "\n",
    "NumPy is a core library for scientific computing in Python. It offers high-performance multidimensional array computation capabilities. Furthermore, Python provides wide ecosystem of libraries that take NumPy arrays as input.\n",
    "\n",
    "### NumPy Arrays\n",
    "\n",
    "NumPy arrays are high-performance homogeneous (= all elements of the same type) multidimensional arrays (think of an N dimensional grid). They are indexed by a tuple of integers. Indexing syntax is similar to lists, tuples, and dictionaries, but NumPy adds some more fancy indexing tools.\n",
    "\n",
    "Let us start with importing NumPy. By convention, it is imported as ``np``."
   ]
  },
  {
   "cell_type": "code",
   "execution_count": null,
   "metadata": {},
   "outputs": [],
   "source": [
    "import numpy as np\n",
    "\n",
    "# Let us also import plotting library\n",
    "import matplotlib.pyplot as plt  "
   ]
  },
  {
   "cell_type": "markdown",
   "metadata": {},
   "source": [
    "## 2 Working with Arrays\n",
    "\n",
    "### 2.1 Creating Arrays\n",
    "\n",
    "Two most common ways of creating NumPy arrays are\n",
    "1. Converting array-like Python objects (e.g. lists, tuples) using the function [`np.array` (reference/documentation)](https://numpy.org/doc/stable/reference/generated/numpy.array.html).\n",
    "2. Calling one of the built-in functions provided by NumPy.\n",
    "\n",
    "The following cells introduce the syntax to create the arrays and some common built-in NumPy functions.\n"
   ]
  },
  {
   "cell_type": "code",
   "execution_count": null,
   "metadata": {},
   "outputs": [],
   "source": [
    "### Converting Python array-like objects.\n",
    "\n",
    "# 1D array from list, shape (4, ).\n",
    "x_1d = np.array([1, 3, 5, 7])\n",
    "\n",
    "# 2D array from combination of lists and tuples, shape (3, 3).\n",
    "x_2d = np.array([(1, 1, 1), [2, 2, 2], (3, 3, 3)])\n",
    "\n",
    "# Print the results.\n",
    "print(f'x_1d:\\n{x_1d}\\n')\n",
    "print(f'x_2d:\\n{x_2d}\\n')"
   ]
  },
  {
   "cell_type": "code",
   "execution_count": null,
   "metadata": {},
   "outputs": [],
   "source": [
    "### Using built-in functions provided by NumPy.\n",
    "\n",
    "# 2D array of zeros, 2 rows, 3 columns.\n",
    "x_zeros = np.zeros((2, 3))\n",
    "\n",
    "# 3D array of ones, shape (2, 3, 4) - 2 matrices of 3 rows and 4 columns.\n",
    "x_ones = np.ones((2, 3, 4))\n",
    "\n",
    "# Identity matrix with 4 rows and 4 columns.\n",
    "x_identity = np.eye(4)\n",
    "\n",
    "# Sequence of numbers from 5 to 11 (11 not included) with step 1.\n",
    "x_seq = np.arange(5, 11)\n",
    "\n",
    "# Sequence of ones of the same shape as `x_zeros`.\n",
    "x_ones_as_zeros = np.ones_like(x_zeros)\n",
    "\n",
    "\n",
    "# Print the results.\n",
    "print(f'x_zeros:\\n{x_zeros}\\n')\n",
    "print(f'x_ones:\\n{x_ones}\\n')\n",
    "print(f'x_identity:\\n{x_identity}\\n')\n",
    "print(f'x_seq:\\n{x_seq}\\n')\n",
    "print(f'x_ones_as_zeros:\\n{x_ones_as_zeros}\\n')"
   ]
  },
  {
   "cell_type": "markdown",
   "metadata": {},
   "source": [
    "### 2.2 Data Types\n",
    "\n",
    "NumPy arrays can be given an explicit data type. Specifying a data type gets useful for instance when using arrays for indexing (integers) or masking (boolean). Full list of supported data types can be found [here](https://docs.scipy.org/doc/numpy/user/basics.types.html).\n",
    "\n",
    "Data type can be specified when creating an array using an argument ``dtype``, arrays can be also cast to a given datatype using function [``astype`` (documentation)](https://numpy.org/doc/stable/reference/generated/numpy.ndarray.astype.html)."
   ]
  },
  {
   "cell_type": "code",
   "execution_count": null,
   "metadata": {},
   "outputs": [],
   "source": [
    "# Create an array of 32bit integers.\n",
    "x_int = np.array([1, 2, 3, 4, 5], dtype=np.int32)\n",
    "\n",
    "# Cast integer array to 32 bit float array.\n",
    "x_float = x_int.astype(np.float32)\n",
    "\n",
    "# Print results.\n",
    "print(f'Array x_int has data type {x_int.dtype}')\n",
    "print(f'Array x_float has data type {x_float.dtype}')"
   ]
  },
  {
   "cell_type": "markdown",
   "metadata": {},
   "source": [
    "### 2.3 Inspecting the Arrays\n",
    "\n",
    "When working with arrays, it is easy to lose track about current number shape or data type. The properties ``ndim``, ``shape``, ``size``, ``dtype`` facilitate working with arrays and debugging your code. Furthermore, you can also simply print out an array using Python's ``print`` function. "
   ]
  },
  {
   "cell_type": "code",
   "execution_count": null,
   "metadata": {},
   "outputs": [],
   "source": [
    "# Crate a 3D array.\n",
    "x_3d = np.array([[[1, 2, 3, 4], [4, 7, 1, 9], [0, 4, 6, 8]], \n",
    "                 [[5, 2, 8, 0], [2, 4, 3, 1], [1, 0, 4, 9]]])\n",
    "\n",
    "# Check the number of dimensions, number of elements, shape, and data type.\n",
    "print(f'Number of dimensions: {x_3d.ndim}')\n",
    "print(f'Number of elements: {x_3d.size}')\n",
    "print(f'Shape: {x_3d.shape}')\n",
    "print(f'Data type: {x_3d.dtype}')\n",
    "\n",
    "# Simply print the array.\n",
    "print(x_3d)"
   ]
  },
  {
   "cell_type": "markdown",
   "metadata": {},
   "source": [
    "### 2.4 Reshaping the Arrays\n",
    "Arrays can be reshaped using a function [``reshape`` (documentation)](https://numpy.org/doc/stable/reference/generated/numpy.ndarray.reshape.html). Note that the requested shape has to have the same number of elements as the original array.\n",
    "\n",
    "The shape of an array is given as a tuple of integers representing the number of elements in each dimension. Here a couple of examples of the shapes:\n",
    "- () - A 0D array, effectively a scalar.\n",
    "- (4, ) - A 1D array (vector) of 4 elements.\n",
    "- (3, 4) - A 2D array (matrix) of 3 rows and 4 columns.\n",
    "- (2, 3, 4) - A 3D array (block), think of 2 2D matrices each having 3 rows and 4 columns.\n",
    "\n",
    "When reshaping an array, you can use a value ``-1`` for at most one axis, meaning that the number of elements for that axis will be computed automatically."
   ]
  },
  {
   "cell_type": "code",
   "execution_count": null,
   "metadata": {},
   "outputs": [],
   "source": [
    "# Create a 2D array filled with a sequence of numbers.\n",
    "x_seq_2d = np.arange(12).reshape(4, 3)\n",
    "\n",
    "# Create a 3D array filled with ones, last axis computed automatically.\n",
    "x_ones_3d = np.ones(8).reshape((2, 2, -1))\n",
    "\n",
    "# Print the results.\n",
    "print(f'x_seq_2d:\\n{x_seq_2d}\\n')\n",
    "print(f'x_ones_3d:\\n{x_ones_3d}\\n')"
   ]
  },
  {
   "cell_type": "markdown",
   "metadata": {},
   "source": [
    "### 2.5 Exercises"
   ]
  },
  {
   "cell_type": "code",
   "execution_count": null,
   "metadata": {},
   "outputs": [],
   "source": [
    "## Create a 1D array of 10 elements of type float32 filled with a value 3.14.\n",
    "## Hint: Use np.ones or np.full.\n",
    "\n",
    "array_pi = None  # <<< YOUR CODE HERE\n",
    "print(f'array_pi:\\n{array_pi}\\n')\n",
    "\n",
    "## Find number of elements in the following array without using `size` property.\n",
    "## Hint: Use np.prod.\n",
    "x = np.zeros((4, 5, 6, 7, 8))\n",
    "\n",
    "num_elements = None  # <<< YOUR CODE HERE\n",
    "print(f'Number of elements in x: {num_elements}')\n",
    "\n",
    "## Reshape the 3D array \"x_unknown\" to a 1D array. Note that you do not know the shape of the array.\n",
    "## Hint: You can access the shape property, use the `-1` trick, or function np.ndarray.flatten()\n",
    "## (i.e. you have to call it s a function of the array, x.flatten())\n",
    "x_unknown = np.zeros(np.random.randint(1, 5, 6))\n",
    "\n",
    "x_flat = None  # <<< YOUR CODE HERE\n",
    "print(f'Shape of x_flat: {x_flat.shape}')\n",
    "\n",
    "# Check the answers:\n",
    "assert(array_pi.shape == (10, ) and array_pi.dtype == np.float32 and np.allclose(array_pi, 3.14))\n",
    "assert(num_elements == x.size)\n",
    "assert(x_flat.ndim == 1)"
   ]
  },
  {
   "cell_type": "markdown",
   "metadata": {},
   "source": [
    "## 3 Accessing Array Elements\n",
    "In order to access the values of an array, **indexing** and **slicing** is used the same way you used it to slice Python array-like objects. Since NumPy arrays are N-dimensional, you can use a separate indexing/slicing expression for each axis separately.\n",
    "\n",
    "NumPy further extends the standard indexing/slicing by the following:\n",
    "- indexing using an array of indices\n",
    "- indexing using boolean array (i.e. masking).\n",
    "- structural indexing\n",
    "\n",
    "The indexing can be used not only for retrieving the values but also modifying the values in the original array (using the indexed array as an L-value):\n",
    "\n",
    "- ``selection = x[3:5, 1::3]  # Retrieving a value.``\n",
    "- ``x[3:5, 1::3] = 3.14       # Replacing the selected values by 3.14``"
   ]
  },
  {
   "cell_type": "markdown",
   "metadata": {},
   "source": [
    "### 3.1 Standard Indexing and Slicing\n",
    "Works the same way as for Python lists, but can be specified separately for every dimension. Use the familiar syntax ``[start : end]`` or ``[start : stop : step]``. When using the range using ``start`` and ``end``, remember that ``start`` is inclusive and ``end`` is exclusive. E.g. writing ``x[2:4]`` will select result in an array of ``[x[2], x[3]]``.\n",
    "\n",
    "All `start`, `stop` and `step` values can be left out. Missing `start` defaults to `0`, missing `end` defaults to the the index of the last element plus one (remember that ``end`` is exclusive), missing `step` defaults to `1`.\n",
    "\n",
    "Note that the step can be negative in which case you traverse an array backwards.\n",
    "\n",
    "The image below depicts a 2D array of the shape (5, 6) and a couple of different indexing strategies. Let us try them out.\n",
    "\n",
    "<img src=\"images/slicing.png\" alt=\"slicing\" width=\"500\">"
   ]
  },
  {
   "cell_type": "code",
   "execution_count": null,
   "metadata": {},
   "outputs": [],
   "source": [
    "# Create a 2D array, which will be used in the following cells, an print it out.\n",
    "x = np.arange(1, 31).reshape((5, 6))\n",
    "print(f'Array x:\\n{x}\\n')\n",
    "\n",
    "# Access 3 elements in the 1st row.\n",
    "orange = x[0, 2:5]\n",
    "print(f'orange:\\n{orange}\\n')\n",
    "\n",
    "# Access the third column.\n",
    "red = x[:, 2]\n",
    "print(f'red:\\n{red}\\n')\n",
    "\n",
    "# Access a 2x2 submatrix form the bottom right corner.\n",
    "green = x[-2:, -2:]\n",
    "print(f'green:\\n{green}\\n')\n",
    "\n",
    "# Access elements from even indices starting from the 3rd row.\n",
    "magenta = x[2::2, ::2]\n",
    "print(f'magenta:\\n{magenta}\\n')\n",
    "\n",
    "# Replace last two rows with zeros.\n",
    "x[-2:, :] = 0\n",
    "print(x)"
   ]
  },
  {
   "cell_type": "markdown",
   "metadata": {},
   "source": [
    "### 3.2 Indexing by an Array of Indices.\n",
    "On top of standard indexing, NumPy also allows for providing a list of integer indices for every axis.\n",
    "\n",
    "<img src=\"images/indexing_by_array.png\" alt=\"slicing\" width=\"500\">"
   ]
  },
  {
   "cell_type": "code",
   "execution_count": null,
   "metadata": {},
   "outputs": [],
   "source": [
    "# Create a 2D array, which will be used in the following cells, an print it out.\n",
    "x = np.arange(1, 31).reshape((5, 6))\n",
    "print(f'Array x:\\n{x}\\n')\n",
    "\n",
    "# Access the 2nd, the 4th and the 5th columns.\n",
    "red = x[:, [1, 3, 4]]\n",
    "print(f'red:\\n{red}\\n')\n",
    "\n",
    "# Access the elements from the 2nd and the 3rd rows in a zig-zag fashion.\n",
    "magenta = x[[1, 2, 1, 2], range(4)]\n",
    "print(f'magenta:\\n{magenta}\\n')\n",
    "\n",
    "# Replace the violet elemenets with a value -1.\n",
    "x[[1, 2, 1, 2], range(4)] = -1\n",
    "print(x)"
   ]
  },
  {
   "cell_type": "markdown",
   "metadata": {},
   "source": [
    "### 3.3 Masking\n",
    "We have seen indexing using arrays of integers, where the integer numbers pointed to given elements. Another approach is indexing using boolean arrays representing a binary mask. Such a mask must have the same shape as indexed array, or it must match along the first dimensions (where the last dimensions are taken as is). A mask array can only contain boolean values ``True`` and ``False``, otherwise it would be interpreted as indexing by an integer array.\n",
    "\n",
    "Masking can be combined with traditional indexing/slicing and indexing using integer arrays. However, the mask must have the same shape as that dimension(s) for which we are using the mask.\n",
    "\n",
    "Masking is especially useful when you want to access those elements in an array which satisfy certain condition. E.g. You might want to access all the elements bigger then a given threshold. Comparison operators (`<`, `>`, `==`, `>=`, `<=`) and other NumPy functions can be used to compare an array to a given value and get a binary mask.\n",
    "\n",
    "<img src=\"images/masking.png\" alt=\"slicing\" width=\"400\">"
   ]
  },
  {
   "cell_type": "code",
   "execution_count": null,
   "metadata": {},
   "outputs": [],
   "source": [
    "# Create a 2D array, which will be used in the following cells, an print it out.\n",
    "x = np.arange(1, 31).reshape((5, 6))\n",
    "print(f'Array x:\\n{x}\\n')"
   ]
  },
  {
   "cell_type": "code",
   "execution_count": null,
   "metadata": {},
   "outputs": [],
   "source": [
    "### Creating the mask manually.\n",
    "# Create a mask corresponding to the red squares.\n",
    "mask = np.zeros((5, 6), dtype=bool)\n",
    "mask[0, 1:4] = True\n",
    "mask[2, 2] = True\n",
    "mask[3, :2] = True\n",
    "mask[-1, -2:] = True\n",
    "print(f'mask:\\n{mask}\\n')\n",
    "\n",
    "# Select the values using a mask\n",
    "red = x[mask]\n",
    "print(f'red:\\n{red}\\n')\n",
    "\n",
    "# Combining traditional indexing/slicing and masking - select the green\n",
    "# columns. Not that the mask is a 1D array whose size is the\n",
    "# same as the size of the corresponding dimension of the original \n",
    "# array `x`.\n",
    "mask = np.array([True, False, False, False, False, True])\n",
    "green = x[:, mask]\n",
    "print(f'green:\\n{green}\\n')"
   ]
  },
  {
   "cell_type": "code",
   "execution_count": null,
   "metadata": {},
   "outputs": [],
   "source": [
    "### Creating the mask using comparison operators.\n",
    "\n",
    "# Extract the values larger than 26.\n",
    "mask = x > 26\n",
    "sel = x[mask]\n",
    "print(f'mask:\\n{mask}\\n')\n",
    "print(f'bigger than 26:\\n{sel}\\n')\n",
    "\n",
    "# Extract the odd values.\n",
    "mask = (x % 2) == 1\n",
    "sel = x[mask]\n",
    "print(f'mask:\\n{mask}\\n')\n",
    "print(f'odd:\\n{sel}\\n')"
   ]
  },
  {
   "cell_type": "markdown",
   "metadata": {},
   "source": [
    "### 3.4 Structural Indexing\n",
    "Finally, NumPy introduces an object ``np.newaxis`` and an *ellipsis* syntax to facilitate indexing/reshaping.\n",
    "\n",
    "``np.newaxis`` can be used within square brackets to create a new empty axis. E.g. if we have a 1D array of E elements and we want to make it a column vector explicitly, i.e. a matrix with E rows and 1 column, ``np.newaxis`` object comes in handy. (Note that ``np.newaxis`` is in fact defined as ``None``, therefore you can use ``None`` instead.)\n",
    "\n",
    "```python\n",
    ">>> col_vec = np.array([1, 2, 3])\n",
    ">>> col_vec.shape\n",
    "    (3, )\n",
    ">>> col_vec = col_vec[:, np.newaxis]  # or col_vec[:, None]\n",
    ">>> col_vec.shape\n",
    "    (3, 1)\n",
    "```\n",
    "\n",
    "``ellipsis`` operator ``...`` stands for \"as many as needed\" consecutive symbols ``:`` used when slicing a multidimensional array.\n",
    "\n",
    "```python\n",
    ">>> x = np.ones((3, 4, 5, 6))\n",
    ">>> x.shape\n",
    "    (3, 4, 5, 6)\n",
    ">>> a = x[0, :, :, 3]\n",
    ">>> b = x[0, ..., 3]\n",
    ">>> np.allclose(a, b)\n",
    "```"
   ]
  },
  {
   "cell_type": "markdown",
   "metadata": {},
   "source": [
    "### 3.5 Exercises\n",
    "\n",
    "Using only standard indexing/slicing, extract the subarrays as depicted in the Figure below.\n",
    "\n",
    "<img src=\"images/slicing_ex.png\" alt=\"slicing\" width=\"300\">"
   ]
  },
  {
   "cell_type": "code",
   "execution_count": null,
   "metadata": {},
   "outputs": [],
   "source": [
    "### Using _only_ standard indexing and slicing, select the red, blue and green \n",
    "# subarrays from the 3D array depicted above.\n",
    "\n",
    "# Create a 2D array and print it out.\n",
    "x = np.arange(1, 31).reshape((5, 6))\n",
    "print(f'Array x:\\n{x}\\n')\n",
    "\n",
    "# Select the subarrays\n",
    "\n",
    "red = None  # <<< YOUR CODE HERE\n",
    "print(f'red:\\n{red}\\n')\n",
    "\n",
    "green = None  # <<< YOUR CODE HERE\n",
    "print(f'green:\\n{green}\\n')\n",
    "\n",
    "blue = None  # <<< YOUR CODE HERE\n",
    "print(f'blue:\\n{blue}\\n')\n",
    "\n",
    "# Bonus: Come up with indexing which selects from x the following submatrix:\n",
    "# [[29, 28], \n",
    "#  [11, 10]].\n",
    "\n",
    "bonus = None  # <<< YOUR CODE HERE\n",
    "print(f'bonus:\\n{bonus}\\n')\n",
    "\n",
    "# Check the results:\n",
    "assert(np.allclose(red, np.array([[1, 6], [7, 12], [13, 18], [19, 24], [25, 30]])))\n",
    "assert(np.allclose(green, np.array([15, 16, 17])))\n",
    "assert(np.allclose(blue, np.array([[2, 3], [14, 15], [26, 27]])))\n",
    "assert(np.allclose(bonus, np.array([[29, 28], [11, 10]])))"
   ]
  },
  {
   "cell_type": "markdown",
   "metadata": {},
   "source": [
    "We will move forward with the exercise session for now, but there are more exercises about indexing using list of indices and masking at the end of the exercise. We encourage you to do them all when you get to the end, as these concepts will keep reocurring in the upcoming exercises."
   ]
  },
  {
   "cell_type": "markdown",
   "metadata": {},
   "source": [
    "## 4 Iterating\n",
    "\n",
    "An N dimensional array can be expressed as a list of N-1 dimensional arrays. \n",
    "\n",
    "For instance, a (2D) matrix ``x = np.ones((2, 3))`` can be thought of as a list of (1D) vectors of lenght 3. As you have seen in Section 3.1, we can access, say, the 2nd row as ``x[1, :]`` which is, however, equivalent to ``x[1]`` (i.e. omitting the ``:`` symbol referring to \"all the values in this dimension\").\n",
    "\n",
    "Similarly, a 3D array ``x = np.ones((4, 2, 3))`` can be thought of as a list of (2D) matrices of shape (2, 3). Again, we can access, say, the 1st matrix as ``x[0, :, :]``, which is equivalent to ``x[0]``.\n",
    "\n",
    "You have seen how to iterate through an array (Python list) using ``for``-loop or ``while``-loop in the exercise 1. You can use the same strategy with NumPy arrays as well. I.e. treat an N dimensional array as a list of N-1 dimensional arrays.\n",
    "\n",
    "Note that for many operations it is preferable _not_ to use an explicit ``for`` or ``while`` loop as the same computation can be usually achieved orders of magnitude faster using so called **vectorization** which will be introduced later. However, explicit iteration still comes in handy at times so it is useful to know how to use it."
   ]
  },
  {
   "cell_type": "code",
   "execution_count": null,
   "metadata": {},
   "outputs": [],
   "source": [
    "# Let us create a 3D array, iterate through it's slices, i.e. matrices, and \n",
    "# find the trace of every matrix.\n",
    "x = np.random.uniform(0, 10, (5, 10, 10))\n",
    "\n",
    "for i, matrix in enumerate(x):\n",
    "    print(f'Trace of matrix {i}: {np.trace(matrix)}')"
   ]
  },
  {
   "cell_type": "markdown",
   "metadata": {},
   "source": [
    "## 5 Concatenating, Stacking, Splitting\n",
    "\n",
    "Arrays can be **concatenated** (i.e. glueing the arrays while keeping the number of dimensions) and **stacked** (gluing the arrays along a newly created dimension). **Splitting** is the counterpart operation to concatenating.\n",
    "\n",
    "All of the **concatenated** arrays must have the same shape along all the dimensions except the one along which we concatenate. E.g. we can stack two matrices of shapes (4, 2) and (4, 5) along *axis 1* to get a new matrix of shape (4, 7).\n",
    "\n",
    "All of the **stacked** arrays must have exactly the same shape, the size of the newly created dimensions correspond to the number of stacked arrays. E.g. we can stack 2 matrices of shapes (4, 3) and (4, 3) along the newly created dimension *axis 0* to get a 3D array of shape (2, 4, 3).\n",
    "\n",
    "The axis for concatenation or stacing is specified using an argument ``axis``.\n",
    "\n",
    "See the examples below."
   ]
  },
  {
   "cell_type": "code",
   "execution_count": null,
   "metadata": {},
   "outputs": [],
   "source": [
    "### Concatenating.\n",
    "\n",
    "# Concatenate a couple of matrices vertically.\n",
    "m1 = np.array([[1, 2, 3], [4, 5, 6]])\n",
    "m2 = np.array([[10, 20, 30], [40, 50, 60], [70, 80, 90]])\n",
    "m3 = np.array([[100, 200, 300]])\n",
    "m_cat = np.concatenate([m1, m2, m3], axis=0)\n",
    "print(m_cat)\n",
    "\n",
    "m_cat_error = np.concatenate([m1, m2, m3], axis=1)  # This will fail, study the error message."
   ]
  },
  {
   "cell_type": "code",
   "execution_count": null,
   "metadata": {},
   "outputs": [],
   "source": [
    "### Stacking\n",
    "\n",
    "# Stack a couple of matrices to create a 3D array.\n",
    "m1 = np.array([[1, 2], [4, 5]])\n",
    "m2 = np.array([[10, 20], [40, 50]])\n",
    "m3 = np.array([[100, 200], [400, 500]])\n",
    "\n",
    "# We can stack along any of axes 0, 1, 2. Stacking along different\n",
    "# axis results in \"rotating\" our newly created 3D cube.\n",
    "m_stack_0 = np.stack([m1, m2, m3], axis=0)\n",
    "m_stack_1 = np.stack([m1, m2, m3], axis=1)\n",
    "m_stack_2 = np.stack([m1, m2, m3], axis=2)\n",
    "\n",
    "print(m_stack_0.shape)\n",
    "print(m_stack_1.shape)\n",
    "print(m_stack_2.shape)"
   ]
  },
  {
   "cell_type": "markdown",
   "metadata": {},
   "source": [
    "### 5.1 Exercises\n",
    "\n",
    "Study the documentation for function [``np.split`` (documentation)](https://numpy.org/doc/stable/reference/generated/numpy.split.html) and use it to solve the following exercise."
   ]
  },
  {
   "cell_type": "code",
   "execution_count": null,
   "metadata": {},
   "outputs": [],
   "source": [
    "## Create a 3D array of increasing sequence of even numbers (starting from 0) of shape (10, 5, 7).\n",
    "\n",
    "x = None  # <<< YOUR CODE HERE\n",
    "print(f'x:\\n{x}\\n')\n",
    "\n",
    "## Split the array into 5 arrays each of the shape (2, 5, 7)\n",
    "\n",
    "splits_5 = None  # <<< YOUR CODE HERE\n",
    "\n",
    "## Split the array into 2 arrays of shapes (10, 2, 7) and (10, 3, 7)\n",
    "\n",
    "splits_2 = None  # <<< YOUR CODE HERE\n",
    "\n",
    "# Check the answers.\n",
    "assert((np.unique(x).size == 10 * 5 * 7) and np.all(x % 2 == 0) and np.min(x) == 0 and np.max(x) == 698)\n",
    "assert(len(splits_5) == 5 and np.allclose(np.concatenate(splits_5, axis=0), x))\n",
    "assert(len(splits_2) == 2 and np.allclose(np.concatenate(splits_2, axis=1), x))"
   ]
  },
  {
   "cell_type": "markdown",
   "metadata": {},
   "source": [
    "## 6 Basic Arithmetic Operators, Linear Algebra\n",
    "\n",
    "Basic arithmetic operators `+`, `-`, `*`, `/`, `//`, `**`, `%` are applied element-wise as long as one of the operands is a scalar or both operands are arrays of the same shape. If the two arrays are not the same shape, **broadcasting** will be applied (see Section 7 Broadcasting).\n",
    "\n",
    "Here are the most common linear algebra operators which you will mostly use for vectors (1D arrays) and matrices (2D arrays):\n",
    "- `np.matmul` - Scalar product, vector-matrix or matrix-matrix multiplication (very similar to `np.dot`, read more about it [here](https://numpy.org/doc/stable/reference/generated/numpy.matmul.html)).\n",
    "- `@` - The same as `np.matmul`, syntactic sugar.\n",
    "- [`np.linalg.inv`( documentation)](https://numpy.org/doc/stable/reference/generated/numpy.linalg.inv.html) - Matrix inversion.\n",
    "- [`np.linalg.norm` (documentation)](https://numpy.org/doc/stable/reference/generated/numpy.linalg.norm.html) - Norm computation (L2 norm by default).\n",
    "- [`np.linalg.solve` (documentation)](https://numpy.org/doc/stable/reference/generated/numpy.linalg.solve.html) - Numerically stable solution to a system of linear equations given as Ax = b.\n",
    "- `x.T` - Transposition.\n",
    "\n",
    "See the examples below."
   ]
  },
  {
   "cell_type": "code",
   "execution_count": null,
   "metadata": {},
   "outputs": [],
   "source": [
    "### Arithmetic operations.\n",
    "\n",
    "# When used for scalar and array operands, the scalar is applied to every element of an array regardless of its shape.\n",
    "x = np.zeros((2, 2))\n",
    "print(f'x:\\n{x}\\n')\n",
    "x += 1\n",
    "print(f'x + 1:\\n{x}\\n')\n",
    "\n",
    "# When used for two array operands, the operator is applies to their corresponding values pair-wise.\n",
    "x1 = np.arange(10).reshape((2, 5))\n",
    "x2 = np.zeros((2, 5))\n",
    "print(f'x1:\\n{x1}\\n')\n",
    "print(f'x1:\\n{x2}\\n')\n",
    "x2min1 = x2 - x1\n",
    "print(f'x2 - x1:\\n{x2min1}\\n')"
   ]
  },
  {
   "cell_type": "code",
   "execution_count": null,
   "metadata": {},
   "outputs": [],
   "source": [
    "### Linear algebra.\n",
    "\n",
    "## Dot product of two orthogonal vectors.\n",
    "v1 = np.array([0.0893, 0.9332, 0.3481])\n",
    "v2 = np.array([-0.6949, -0.1920, 0.6930])\n",
    "v_dot = np.dot(v1, v2)\n",
    "\n",
    "# If they are orthogonal, their dot product should be close to 0.\n",
    "print('v1 and v2 are orthogonal: {}'.format(\n",
    "    ('FALSE', 'TRUE')[int(np.isclose(v_dot, 0., atol=1e-5))]))\n",
    "\n",
    "## Matrix multiplication.\n",
    "m1 = np.eye(3)\n",
    "m2 = np.random.uniform(-10., 10., (3, 8))\n",
    "m_mult = m1 @ m2\n",
    "\n",
    "# m1 is an identity matrix, therefore the matrix multiplication with \n",
    "# any matrix M will produce the same matrix M.\n",
    "print('m_mult is the same as m2: {}'.format(\n",
    "    ('FALSE', 'TRUE')[np.allclose(m2, m_mult)]))\n",
    "\n",
    "## Solve a linear system Ax = b.\n",
    "# All the coefficients are random so it is extremely unlikely that we would\n",
    "# generate a rank deficient matrix A and therefore the system of linear\n",
    "# equations will have a solution.\n",
    "A = np.random.uniform(-1., 1., (10, 10))\n",
    "b = np.random.uniform(-1., 1., (10, ))\n",
    "x = np.linalg.solve(A, b)"
   ]
  },
  {
   "cell_type": "markdown",
   "metadata": {},
   "source": [
    "### 6.1 Exercises"
   ]
  },
  {
   "cell_type": "code",
   "execution_count": null,
   "metadata": {},
   "outputs": [],
   "source": [
    "## Generate a matrix of shape (100, 100) filled with Euler's number. You cannot use np.full.\n",
    "\n",
    "eul = None  # <<< YOUR CODE HERE\n",
    "print(f'eul:\\n{eul}\\n')\n",
    "\n",
    "## Generate a 1D array of length 10 of powers of 2, i.e. [2^0, 2^1, ..., 2^9]\n",
    "\n",
    "pows = None  # <<< YOUR CODE HERE\n",
    "print(f'pows:\\n{pows}\\n')\n",
    "\n",
    "## Check the answers:\n",
    "assert(np.allclose(eul, np.stack([[2.71828182] * 100] * 100, axis=0)))\n",
    "assert(np.allclose(pows, [2**0, 2**1, 2**2, 2**3, 2**4, 2**5, 2**6, 2**7, 2**8, 2**9]))"
   ]
  },
  {
   "cell_type": "code",
   "execution_count": null,
   "metadata": {},
   "outputs": [],
   "source": [
    "# Helper function to print an arrow.\n",
    "def plot_arrow(pts, clr):\n",
    "    plt.plot(*pts[:2].T, color=clr, marker='*')\n",
    "    plt.plot(*pts[1:3].T, color=clr, marker='*')\n",
    "    plt.plot(*pts[[1, 3], :].T, color=clr, marker='*')\n",
    "\n",
    "## The array 'arrow' contains 4 2D points defining a blue arrow. The objective\n",
    "## is to make the arrow 2 times shorter and thinner and rotate it by 45 degrees \n",
    "## counter-clockwise. \n",
    "## First you will rotate the arrow by multiplying the points with the rotation \n",
    "## matrix, where the rotation matrix stands on the left.\n",
    "## Then, you will scale the arrow by multiplying the previous result with the scale matrix\n",
    "## where the scale matrix stands on the left.\n",
    "\n",
    "## Hint: You will need to do some transpose operations.\n",
    "\n",
    "arrow = np.array([[ 0.,  0.,], \n",
    "                  [ 0.,  2.], \n",
    "                  [-0.5, 1.5], \n",
    "                  [ 0.5, 1.5]])\n",
    "angle = np.pi / 4.\n",
    "\n",
    "rot = np.array([[np.cos(angle), -np.sin(angle)], \n",
    "                [np.sin(angle),  np.cos(angle)]])\n",
    "\n",
    "scale = np.array([[0.5, 0.], \n",
    "                  [0., 0.5]])\n",
    "\n",
    "arrow_sr = None  # <<< YOUR CODE HERE\n",
    "\n",
    "# Plot the arrows.\n",
    "plt.figure(figsize=(5, 5))\n",
    "plt.xlim(-3, 3)\n",
    "plt.ylim(-3, 3)\n",
    "plot_arrow(arrow, 'b')\n",
    "plot_arrow(arrow_sr, 'r')\n",
    "\n",
    "## Check the answers.\n",
    "assert(np.allclose(arrow_sr, np.array([[ 0.        ,  0.        ],\n",
    "                                       [-0.70710678,  0.70710678],\n",
    "                                       [-0.70710678,  0.35355339],\n",
    "                                       [-0.35355339,  0.70710678]])))"
   ]
  },
  {
   "cell_type": "markdown",
   "metadata": {},
   "source": [
    "## 7 Broadcasting\n",
    "\n",
    "Broadcasting allows for performing arithmetic and other operations on arrays of different shape, where the smaller is \"broadcast\" over the larger array. For instance, adding a column vector *v* to a matrix *M*, M + v, will effectively take every column of the matrix and add the vector *v* element-wise.\n",
    "\n",
    "Broadcasting further allows for so called **vectorization**, i.e. performing a given operation in parallel where the actual looping occurs in highly-optimized C code rather than in Python, where looping is slow.\n",
    "\n",
    "Example:\n",
    "\n",
    "```python\n",
    ">>> a = np.arange(6).reshape((2, 3))  # shape (2, 3)\n",
    "array([[0, 1, 2],\n",
    "       [3, 4, 5]])\n",
    "\n",
    ">>> b = np.array([10, 20, 30])  # shape (3, )\n",
    "array([10, 20, 30])\n",
    "\n",
    ">>> a + b\n",
    "array([[10, 21, 32],\n",
    "       [13, 24, 35]])  # shape (2, 3)\n",
    "```\n",
    "\n",
    "### 7.1 Broadcasting Rules\n",
    "\n",
    "The corresponding dimensions of the 2 arrays must satisfy one of the following:\n",
    "- Have the same dimensions.\n",
    "- One of the dimensions is 1.\n",
    "\n",
    "Furthermore, non-existent dimensions are treated as 1.\n",
    "\n",
    "Here are a couple of examples of the input and output shapes to a binary operation (such as `+`) being applied on 2 arrays *A* and *B*:\n",
    "\n",
    "<img src='images/broadcasting.png' width=300>\n",
    "\n",
    "**Note:** Do not confuse the concept of _vectorization_ with NumPy's function `np.vectorize`, which is provided for programming convenience, not for performance and thus does not guranatee the actual vectorization of an operation.\n",
    "\n",
    "If the concept is not clear, you can read more about broadcasting [here](https://numpy.org/devdocs/user/basics.broadcasting.html).\n",
    "\n",
    "Go through the examples below and try to understand how the arrays are constructed and computed."
   ]
  },
  {
   "cell_type": "code",
   "execution_count": null,
   "metadata": {},
   "outputs": [],
   "source": [
    "## Manual Python looping vs. vectorization - Multiplying a \n",
    "# matrix by a vector row-wise.\n",
    "m = np.arange(15).reshape(5, 3)\n",
    "v = np.array([0, 4, 2])\n",
    "m_loop = np.copy(m)\n",
    "m_vect = np.copy(m)\n",
    "\n",
    "# Python loop.\n",
    "for i in range(m.shape[0]):\n",
    "    m_loop[i] *= v\n",
    "\n",
    "# Vectorization.\n",
    "m_vect *= v\n",
    "\n",
    "# Check that both results are the same.\n",
    "assert(np.allclose(m_loop, m_vect))\n",
    "\n",
    "## Generate a matrix where each row holds a constant value \n",
    "## which increases throughout the rows.\n",
    "seq_mat = np.ones((5, 3)) * np.arange(5).reshape((-1, 1))\n",
    "print(f'seq_mat:\\n{seq_mat}\\n')\n",
    "\n",
    "m = np.random.randint(0, 10, (4, 5))\n",
    "print(f'm:\\n{m}\\n')\n",
    "\n",
    "## Add a vector to a matrix row-wise (horizontally).\n",
    "add_rw = np.array([10, 20, 30, 40, 50])\n",
    "m_add_rw = m + add_rw\n",
    "print(f'm_add_rw:\\n{m_add_rw}\\n')\n",
    "\n",
    "## Add a vector to a matrix column-wise (vertically).\n",
    "add_cw = np.array([10, 20, 30, 40]).reshape((-1, 1))\n",
    "m_add_cw = m + add_cw\n",
    "print(f'm_add_cw:\\n{m_add_cw}\\n')"
   ]
  },
  {
   "cell_type": "markdown",
   "metadata": {},
   "source": [
    "### 7.2 Exercises"
   ]
  },
  {
   "cell_type": "code",
   "execution_count": null,
   "metadata": {},
   "outputs": [],
   "source": [
    "## Given a matrix 'data' defined below, Compute a matrix data_pow, \n",
    "## where a value in each column is taken to the power of its column\n",
    "## index.\n",
    "\n",
    "data = np.random.uniform(0, 5, (4, 5))\n",
    "data_pow = None  # <<< YOUR CODE HERE\n",
    "print(f'data_pow:\\n{data_pow}\\n')\n",
    "\n",
    "## Generate a matrix of shape (5, 4), where each row is an integer \n",
    "## sequence starting from 0 with an increment of a row index i. E.g.\n",
    "## the first 3 rows would be:\n",
    "##\n",
    "## [0*0, 0*0, 0*0, 0*0]   [0, 0, 0, 0]\n",
    "## [0*1, 1*1, 2*1, 3*1] = [0, 1, 2, 3]\n",
    "## [0*2, 1*2, 2*2, 3*2]   [0, 2, 4, 6]\n",
    "##\n",
    "## You can use 1D arrays only and the rules of broadcasting.\n",
    "# Hint: Use np.arange\n",
    "\n",
    "seqs = None  # <<< YOUR CODE HERE\n",
    "print(f'seqs:\\n{seqs}\\n')\n",
    "\n",
    "## Check the results:\n",
    "data_pow_gt = np.copy(data)\n",
    "for i in range(data.shape[1]):\n",
    "    data_pow_gt[:, i] = data_pow_gt[:, i] ** i\n",
    "assert(np.allclose(data_pow, data_pow_gt))\n",
    "assert(np.allclose(seqs, np.array([[ 0,  0,  0,  0],\n",
    "                                   [ 0,  1,  2,  3],\n",
    "                                   [ 0,  2,  4,  6],\n",
    "                                   [ 0,  3,  6,  9],\n",
    "                                   [ 0,  4,  8, 12]])))"
   ]
  },
  {
   "cell_type": "markdown",
   "metadata": {},
   "source": [
    "## 8 Common NumPy Functions\n",
    "\n",
    "NumPy offers plethora of functions to perform computations with N dimensional arrays. One of the common concepts is that these functions would accept an argument `axis` using which you can specify along which axis the operation should be performed. \n",
    "\n",
    "For example, given a matrix `A =  np.array([[1, 2, 3], [4, 5, 6]])`, we might want to find a sum of values over rows and columns:\n",
    "\n",
    "<img src='images/axis.png' width=400>\n",
    "\n",
    "```python\n",
    ">>> sum_per_row = np.sum(A, axis=1)\n",
    "array([6, 15])\n",
    "\n",
    ">>> sum_per_col = np.sum(A, axis=0)\n",
    "array([5, 7, 9])\n",
    "```\n",
    "\n",
    "Among the most common functions you might need the following: \n",
    "- [`np.sum` (documentation)](https://numpy.org/doc/stable/reference/generated/numpy.sum.html)\n",
    "- [`np.prod` (documentation)](https://numpy.org/doc/stable/reference/generated/numpy.prod.html) \n",
    "- [`np.mean` (documentation)](https://numpy.org/doc/stable/reference/generated/numpy.mean.html)\n",
    "- [`np.std` (documentation)](https://numpy.org/doc/stable/reference/generated/numpy.std.html)\n",
    "- `np.min`\n",
    "- `np.max`\n",
    "- [`np.argmin` (documentation)](https://numpy.org/doc/stable/reference/generated/numpy.argmin.html)\n",
    "- [`np.argmax` (documentation)](https://numpy.org/doc/stable/reference/generated/numpy.argmax.html)\n",
    "- [`np.sort` (documentation)](https://numpy.org/doc/stable/reference/generated/numpy.sort.html)\n",
    "- `np.abs` \n",
    "- [`np.sqrt` (documentation)](https://numpy.org/doc/stable/reference/generated/numpy.sqrt.html)\n",
    "- [`np.unravel_index` (documentation)](https://numpy.org/doc/stable/reference/generated/numpy.unravel_index.html).\n",
    "\n",
    "Please study their corresponding reference pages and fill in the following exercises."
   ]
  },
  {
   "cell_type": "markdown",
   "metadata": {},
   "source": [
    "### 8.1 (OPTIONAL) Exercises"
   ]
  },
  {
   "cell_type": "code",
   "execution_count": null,
   "metadata": {},
   "outputs": [],
   "source": [
    "## Given a matrix M, find the product of the values in each row.\n",
    "M = np.arange(12).reshape((4, 3))\n",
    "\n",
    "sm = None  # <<< YOUR CODE HERE\n",
    "\n",
    "# Check the results.\n",
    "assert(np.allclose(sm, np.array([0, 60, 336, 990])))"
   ]
  },
  {
   "cell_type": "markdown",
   "metadata": {},
   "source": [
    "Write a function `rescale` which takes as input an array $x \\in \\mathbb R ^ {N \\times M}$ and scalars $a<b \\in \\mathbb R$ and returns an output array $y \\in \\mathbb [a,b] ^ {N \\times M} : y = (b-a) \\frac{(x - \\min x)}{\\max x - \\min x} + a$.  \n",
    "\n",
    "Hint: Use `np.min`, `np.max`"
   ]
  },
  {
   "cell_type": "code",
   "execution_count": null,
   "metadata": {},
   "outputs": [],
   "source": [
    "def rescale(x: np.ndarray, a: float, b: float) -> np.ndarray:\n",
    "    \"\"\" Rescales the input from range [min(x), max(x)] to range [a, b].\n",
    "    \n",
    "    Args:\n",
    "        x (np.ndarray): Input array, shape (N, M).\n",
    "        a (float): Lower bound of the output range.\n",
    "        b (float): Upper bound of the output range.\n",
    "        \n",
    "    Returns:\n",
    "        np.ndarray: Rescaled array, shape (N, M).\n",
    "    \"\"\"\n",
    "    y = None  # <<< YOUR CODE HERE\n",
    "\n",
    "    return y\n",
    "\n",
    "# Test.\n",
    "x = 2 * np.random.rand(3, 2) - 1\n",
    "a, b = 1, 3\n",
    "y = rescale(x, a, b)\n",
    "\n",
    "assert(np.isclose(np.min(y), a) and np.isclose(np.max(y), b))\n",
    "\n",
    "print(f'Input array:\\n{x}\\n')\n",
    "print(f'Required range: {a, b}\\n')\n",
    "print(f'Output array:\\n{y}\\n')"
   ]
  },
  {
   "cell_type": "markdown",
   "metadata": {},
   "source": [
    "Write function `find_closest`,  which given  scalar $u \\in \\mathbb R$ and input array $x \\in \\mathbb R ^ {N \\times M}$, returns the closest element to the scalar in the array $x_{i^*,j^*} : (i^*,j^*)=\\text{argmin}_{i,j} | x_{i,j} - u |$. $\\text{argmin}$ is the operation that finds the index of the minimum element.\n",
    "\n",
    "Hint: Use `np.abs`, [`np.argmin` (documentation)](https://numpy.org/doc/stable/reference/generated/numpy.argmin.html), [`np.unravel_index` (documentation)](https://numpy.org/doc/stable/reference/generated/numpy.unravel_index.html)"
   ]
  },
  {
   "cell_type": "code",
   "execution_count": null,
   "metadata": {},
   "outputs": [],
   "source": [
    "def find_closest(x: np.ndarray, u: float) -> float:\n",
    "    \"\"\" Finds the closest element to `u` in `x`.\n",
    "    \n",
    "    Args:\n",
    "        x (np.ndarray): Input array, shape (N, M).\n",
    "        u (float): A value to which the closest element in x is searched for.\n",
    "        \n",
    "    Returns:\n",
    "        float: Closest element in `x` to `u`.\n",
    "    \"\"\"\n",
    "    closest = None  # <<< YOUR CODE HERE\n",
    "\n",
    "    return closest\n",
    "\n",
    "# Test.\n",
    "x = np.arange(11)\n",
    "u = np.random.uniform(0, 10)\n",
    "x_ij = find_closest(x, u)\n",
    "\n",
    "assert(x_ij == x[int(round(u))] )\n",
    "\n",
    "print(f'The closest element to {u:.3f} within {x} is {x_ij}')"
   ]
  },
  {
   "cell_type": "markdown",
   "metadata": {},
   "source": [
    "Write a function `z_score_normalize` which takes as input an array $x \\in \\mathbb R ^ {N \\times M}$ and returns an output array $y \\in \\mathbb R ^ {N \\times M}$ such that $\\mathbb E [y]= 0$ and $\\sigma [y] = 1$, where $\\sigma[y]$ is a standard deviation of $y$.\n",
    "\n",
    "Hint: Use [`np.mean` (documentation)](https://numpy.org/doc/stable/reference/generated/numpy.mean.html) [`np.std` (documentation)](https://numpy.org/doc/stable/reference/generated/numpy.std.html)"
   ]
  },
  {
   "cell_type": "code",
   "execution_count": null,
   "metadata": {},
   "outputs": [],
   "source": [
    "def z_score_normalize(x: np.ndarray) -> np.ndarray:\n",
    "    \"\"\" Normalizes the input x so that its mean is 0 and std is 1.\n",
    "    \n",
    "    Args:\n",
    "        x (np.ndarray): Input array, shape (N, M).\n",
    "        \n",
    "    Returns:\n",
    "        np.ndarray: Normalized array, shape (N, M).\n",
    "    \"\"\"\n",
    "    normalized = None  # <<< YOUR CODE HERE\n",
    "    \n",
    "    return normalized\n",
    "\n",
    "# Test.\n",
    "x = 2 * np.random.rand(3, 2) - 1\n",
    "y = z_score_normalize(x)\n",
    "\n",
    "assert(np.isclose(np.mean(y), 0))\n",
    "assert(np.isclose(np.std(y), 1.))\n",
    "\n",
    "print(f'Mean/std for input array\\n{x}\\nis: {np.mean(x):.3f}/{np.std(x):.3f}\\n')\n",
    "print(f'Mean/std for normalized array\\n{y} is:\\n{np.mean(y):.3f}/{np.std(y):.3f}')"
   ]
  },
  {
   "cell_type": "markdown",
   "metadata": {},
   "source": [
    "## 9 Shallow and Deep Copy\n",
    "\n",
    "A simple assignment makes no copy of the underlying data, have a look at the following example:\n",
    "\n",
    "```python\n",
    ">>> a = np.array([1., 2., 3.])\n",
    ">>> b = a\n",
    ">>> b[1] = 1.602e-19\n",
    ">>> print(a, b)\n",
    "array([1, 1.602e-19, 3])\n",
    "array([1, 1.602e-19, 3])\n",
    "```\n",
    "\n",
    "Assigning a slice of an array to a new array works with the very same data as well, i.e. no copy is made:\n",
    "\n",
    "```python\n",
    ">>> a = np.array([1., 2., 3.])\n",
    ">>> b = a[:2]\n",
    ">>> b[0] = 6.626e-34\n",
    ">>> print(a, b)\n",
    "array([6.626e-34, 2, 3])\n",
    "array([6.626e-34, 2])\n",
    "```\n",
    "\n",
    "In order to truly copy the data, we need to make a deep copy using the NumPy function [`np.copy` (documentation)](https://numpy.org/doc/stable/reference/generated/numpy.copy.html):\n",
    "\n",
    "```python\n",
    ">>> a = np.array([1., 2., 3.])\n",
    ">>> b = a.copy()\n",
    ">>> b[2] = 9.807\n",
    ">>> print(a, b)\n",
    "array([1, 2, 3])\n",
    "array([2, 2, 9.807])\n",
    "```\n",
    "\n",
    "\n"
   ]
  },
  {
   "cell_type": "markdown",
   "metadata": {},
   "source": [
    "## 10 Random\n",
    "\n",
    "The module [`np.random` (documentation)](https://numpy.org/doc/stable/reference/random/index.html) implements pseudo-random number generators (RNG) for various distributions. We will frequently use it to randomly sample our data or to randomly initialize the parameters of our models.\n",
    "\n",
    "In order to fix the RNG and thus to be able to reproduce the computation, we can set the so called *seed*. Setting the seed guarantees that the same sequence of numbers will be generated by the RNG in each run.\n",
    "\n",
    "```python\n",
    ">>> constant = 3  # Any we want\n",
    ">>> np.random.seed(constant)\n",
    "```\n",
    "\n",
    "Here are some of the functions we will be using most frequently:\n",
    "- np.random.randint\n",
    "- np.random.shuffle\n",
    "- np.random.uniform\n",
    "- np.random.randn\n",
    "- np.random.permutation\n",
    "\n",
    "Please study their respective [reference pages](https://docs.scipy.org/doc/numpy-1.16.0/reference/routines.random.html) and complete the exercises below."
   ]
  },
  {
   "cell_type": "markdown",
   "metadata": {},
   "source": [
    "### 10.1 (OPTIONAL) Exercises"
   ]
  },
  {
   "cell_type": "code",
   "execution_count": null,
   "metadata": {},
   "outputs": [],
   "source": [
    "## Create a 1D array of randomly permuted sequence from 0 to 10.\n",
    "x_perm = None  # <<< YOUR CODE HERE\n",
    "print(f'Permuted array:\\n{x_perm}\\n')\n",
    "\n",
    "## Check the answers.\n",
    "assert(np.unique(x_perm).shape == (11, ) and np.min(x_perm) == 0 and np.max(x_perm) == 10)"
   ]
  },
  {
   "cell_type": "markdown",
   "metadata": {},
   "source": [
    "## 11 (OPTIONAL) Extra Indexing Exercises"
   ]
  },
  {
   "cell_type": "markdown",
   "metadata": {},
   "source": [
    "Using indexing by integer arrays, extract the subarrays as depicted in the Figure below.\n",
    "\n",
    "<img src=\"images/indexing_by_array_ex.png\" alt=\"slicing\" width=\"300\">"
   ]
  },
  {
   "cell_type": "code",
   "execution_count": null,
   "metadata": {},
   "outputs": [],
   "source": [
    "### Using a combination of standard indexing/slicing and an indexing by an array \n",
    "# of indices, select the following subarrays.\n",
    "\n",
    "# Create a 2D array an print it out.\n",
    "x = np.arange(1, 31).reshape((5, 6))\n",
    "print(f'Array x:\\n{x}\\n')\n",
    "\n",
    "# Select the subarrays.\n",
    "\n",
    "red = None  # <<< YOUR CODE HERE\n",
    "print(f'red:\\n{red}\\n')\n",
    "\n",
    "green = None  # <<< YOUR CODE HERE\n",
    "print(f'green:\\n{green}\\n')\n",
    "\n",
    "blue = None  # <<< YOUR CODE HERE\n",
    "print(f'blue:\\n{blue}\\n')\n",
    "\n",
    "# Bonus: Come up with indexing which results in matrix `x` being stacked 3 times \n",
    "# horizontally, i.e. the resulting shape is (15, 6).\n",
    "# Hint: Use functions range and list, use operator * with a list.\n",
    "\n",
    "bonus = None  # <<< YOUR CODE HERE\n",
    "print(f'bonus:\\n{bonus}\\n')\n",
    "\n",
    "# Check the results:\n",
    "assert(np.allclose(red, np.arange(1, 30, 7)))\n",
    "assert(np.allclose(green, np.array([[5, 6], [11, 12], [23, 24]])))\n",
    "assert(np.allclose(blue, np.array([19, 25, 26])))\n"
   ]
  },
  {
   "cell_type": "markdown",
   "metadata": {},
   "source": [
    "Using masking, extract the subarray as depicted in the Figure below.\n",
    "\n",
    "<img src=\"images/masking_ex.png\" alt=\"slicing\" width=\"300\">"
   ]
  },
  {
   "cell_type": "code",
   "execution_count": null,
   "metadata": {},
   "outputs": [],
   "source": [
    "### Construct a mask and then extract the red values above the main diagonal.\n",
    "\n",
    "## Extract the red values.\n",
    "mask = None  # <<< YOUR CODE HERE\n",
    "print(f'mask:\\n{mask}\\n')\n",
    "\n",
    "red = None  # <<< YOUR CODE HERE\n",
    "print(f'red:\\n{red}\\n')\n",
    "\n",
    "## Bonus: Extract all the values, which are not red.\n",
    "## Hint: Use your already constructed `mask`, study NumPy's binary operations\n",
    "## https://docs.scipy.org/doc/numpy/reference/routines.bitwise.html\n",
    "\n",
    "the_rest = None  # <<< YOUR CODE HERE\n",
    "print(f'the_rest:\\n{the_rest}\\n')\n",
    "\n",
    "## Bonus2: Extract the values which can be divided by both 2 and 3.\n",
    "## Hint: Construct two masks and combine them using NumPy's binary operators.\n",
    "\n",
    "div23 = None  # <<< YOUR CODE HERE\n",
    "print(f'div23:\\n{div23}\\n')\n",
    "\n",
    "# Check the results:\n",
    "assert(np.allclose(red, np.concatenate(\n",
    "    [range(2, 7), range(9, 13), range(16, 19), range(23, 25), [30]])))\n",
    "assert(np.allclose(np.sort(np.concatenate([red, the_rest])), np.arange(1, 31)))\n",
    "assert(not np.any(np.fmod(div23, 2.)) and not np.any(np.fmod(div23, 3.)))"
   ]
  },
  {
   "cell_type": "markdown",
   "metadata": {},
   "source": [
    "## 12 Next Steps\n",
    "\n",
    "Feel free to consult more thorough NumPy tutorials.\n",
    "\n",
    "- NumPy basics: [https://docs.scipy.org/doc/numpy/user/basics.html](https://docs.scipy.org/doc/numpy/user/basics.html)\n",
    "- Official NumPy tutorial: [https://docs.scipy.org/doc/numpy/user/quickstart.html](https://docs.scipy.org/doc/numpy/user/quickstart.html)"
   ]
  }
 ],
 "metadata": {
  "kernelspec": {
   "display_name": "Python 3",
   "language": "python",
   "name": "python3"
  },
  "language_info": {
   "codemirror_mode": {
    "name": "ipython",
    "version": 3
   },
   "file_extension": ".py",
   "mimetype": "text/x-python",
   "name": "python",
   "nbconvert_exporter": "python",
   "pygments_lexer": "ipython3",
   "version": "3.8.6"
  }
 },
 "nbformat": 4,
 "nbformat_minor": 4
}
